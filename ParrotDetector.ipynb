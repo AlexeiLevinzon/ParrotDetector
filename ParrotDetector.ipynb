{
 "cells": [
  {
   "cell_type": "code",
   "execution_count": 1,
   "id": "1b78c6a1-ac52-4c90-b3ea-2bdb72877d5c",
   "metadata": {},
   "outputs": [],
   "source": [
    "!pip install -Uqq fastai"
   ]
  },
  {
   "cell_type": "code",
   "execution_count": 2,
   "id": "185563ba-5a11-4c05-8746-c4b0b9265d81",
   "metadata": {},
   "outputs": [],
   "source": [
    "!pip install -Uqq duckduckgo_search"
   ]
  },
  {
   "cell_type": "code",
   "execution_count": 3,
   "id": "2890203e-cb8d-4e3e-80bb-14017a996704",
   "metadata": {},
   "outputs": [],
   "source": [
    "from duckduckgo_search import DDGS\n",
    "from fastcore.all import * \n",
    "\n",
    "def search_images(term, max_images=100):\n",
    "    print(f\"Searching for '{term}'\")\n",
    "    with DDGS() as ddgs:\n",
    "        # generator which yields dicts with:\n",
    "        # {'title','image','thumbnail','url','height','width','source'}\n",
    "        search_results = ddgs.images(keywords=term)       \n",
    "        # grap number of max_images urls\n",
    "        image_urls = [next(search_results).get(\"image\") for _ in range(max_images)]\n",
    "        # convert to L (functionally extended list class from fastai)\n",
    "        return L(image_urls)\n",
    "\n",
    "from pathlib import Path\n",
    "import hashlib\n",
    "\n",
    "def get_file_hash(file_path):\n",
    "    \"\"\"Compute MD5 hash of the file content.\"\"\"\n",
    "    hash_md5 = hashlib.md5()\n",
    "    with open(file_path, \"rb\") as f:\n",
    "        for chunk in iter(lambda: f.read(4096), b\"\"):\n",
    "            hash_md5.update(chunk)\n",
    "    return hash_md5.hexdigest()\n",
    "\n",
    "def remove_duplicates(image_paths):\n",
    "    \"\"\"Remove duplicate images based on file content.\"\"\"\n",
    "    hashes = {}\n",
    "    duplicates = []\n",
    "    for path in image_paths:\n",
    "        file_hash = get_file_hash(path)\n",
    "        if file_hash in hashes:\n",
    "            duplicates.append(path)\n",
    "        else:\n",
    "            hashes[file_hash] = path\n",
    "    return duplicates"
   ]
  },
  {
   "cell_type": "code",
   "execution_count": null,
   "id": "154885e9-2cd4-4450-8670-178c08d9e21d",
   "metadata": {},
   "outputs": [],
   "source": [
    "urls = search_images('parrot photos', max_images=1)\n",
    "print(urls[0])"
   ]
  },
  {
   "cell_type": "code",
   "execution_count": null,
   "id": "cde997b4-dc8e-455c-9e8c-732b132ce82d",
   "metadata": {},
   "outputs": [],
   "source": [
    "from fastdownload import download_url \n",
    "dest = 'parrot.jpg' \n",
    "download_url(urls[0], dest, show_progress=False) \n",
    "\n",
    "from fastai.vision.all import * \n",
    "im = Image.open(dest) \n",
    "im.to_thumb(256,256)"
   ]
  },
  {
   "cell_type": "code",
   "execution_count": null,
   "id": "1f962feb-0916-47d8-8b7e-5c99b8dc050e",
   "metadata": {},
   "outputs": [],
   "source": [
    "download_url(search_images('forest photos', max_images=1)[0], 'forest.jpg', show_progress=True) \n",
    "Image.open('forest.jpg').to_thumb(256,256)"
   ]
  },
  {
   "cell_type": "code",
   "execution_count": null,
   "id": "ea595d57-e479-434c-b68b-077ee08dcee0",
   "metadata": {},
   "outputs": [],
   "source": [
    "searches = 'forest','parrot' \n",
    "path = Path('parrot_or_not') \n",
    "\n",
    "from time import sleep \n",
    "for o in searches: \n",
    "    dest = (path/o) \n",
    "    dest.mkdir(exist_ok=True, parents=True) \n",
    "    download_images(dest, urls=search_images(f'{o} photo')) \n",
    "    sleep(10)\n",
    "    download_images(dest, urls=search_images(f'{o} sun photo')) \n",
    "    sleep(10) \n",
    "    download_images(dest, urls=search_images(f'{o} evening photo')) \n",
    "    sleep(10) \n",
    "    download_images(dest, urls=search_images(f'{o} shade photo')) \n",
    "    sleep(10) \n",
    "    resize_images(path/o, max_size=400, dest=path/o)"
   ]
  },
  {
   "cell_type": "code",
   "execution_count": null,
   "id": "654dcd61-723a-4f11-9ba9-c25ac2a32f38",
   "metadata": {},
   "outputs": [],
   "source": [
    "failed = verify_images(get_image_files(path)) \n",
    "failed.map(Path.unlink) \n",
    "print(len(failed))\n",
    "\n",
    "# Remove duplicate images\n",
    "duplicates = remove_duplicates(get_image_files(path))\n",
    "for file in duplicates:\n",
    "    Path(file).unlink()\n",
    "\n",
    "print(len(duplicates))"
   ]
  },
  {
   "cell_type": "code",
   "execution_count": null,
   "id": "83a1e5b5-ebf5-42ca-bbe4-af7e402edbf7",
   "metadata": {
    "scrolled": true
   },
   "outputs": [],
   "source": [
    "dls = DataBlock( \n",
    "    blocks=(ImageBlock, CategoryBlock), \n",
    "    get_items=get_image_files, \n",
    "    splitter=RandomSplitter(valid_pct=0.2, seed=42), \n",
    "    get_y=parent_label, \n",
    "    item_tfms=[Resize(192, method='squish')] \n",
    ").dataloaders(path) \n",
    "\n",
    "dls.show_batch(max_n=6)"
   ]
  },
  {
   "cell_type": "code",
   "execution_count": null,
   "id": "5d42dc04-6666-4001-afcd-30a55d1783b8",
   "metadata": {},
   "outputs": [],
   "source": [
    "learn = vision_learner(dls, resnet18, metrics=error_rate) \n",
    "learn.fine_tune(5)"
   ]
  },
  {
   "cell_type": "code",
   "execution_count": null,
   "id": "3f48e406-9cef-4dd7-afc1-9b4cacda61eb",
   "metadata": {},
   "outputs": [],
   "source": [
    "learn.show_results()\n",
    "\n",
    "is_bird,_,probs = learn.predict(PILImage.create('monkey.jpg')) \n",
    "print(f\"This is a: {is_bird}.\") \n",
    "print(f\"Probability it's a forest: {probs[0]:.4f}\")"
   ]
  }
 ],
 "metadata": {
  "kernelspec": {
   "display_name": "Python 3 (ipykernel)",
   "language": "python",
   "name": "python3"
  },
  "language_info": {
   "codemirror_mode": {
    "name": "ipython",
    "version": 3
   },
   "file_extension": ".py",
   "mimetype": "text/x-python",
   "name": "python",
   "nbconvert_exporter": "python",
   "pygments_lexer": "ipython3",
   "version": "3.10.6"
  }
 },
 "nbformat": 4,
 "nbformat_minor": 5
}
